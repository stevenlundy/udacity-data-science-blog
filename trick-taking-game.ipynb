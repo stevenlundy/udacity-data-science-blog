{
 "cells": [
  {
   "cell_type": "markdown",
   "metadata": {},
   "source": [
    "# Trick Taking Game\n",
    "\n",
    "## Introduction\n",
    "\n",
    "A trick-taking game is a card game in which players take turns playing cards and the highest card played each round wins the trick. There is often a trump suit that beats all other suits, and players must follow suit if possible. The game is played over a series of rounds, with each round consisting of a number of tricks. The player or team that wins the most tricks wins the game. There are many different trick-taking games, but they all share some common elements. The most common trick-taking games are Bridge, Whist, Hearts, and Spades.\n",
    " \n",
    "In this project, I'll be looking at simulated data from one round of a trick-taking game. The data was generated using a simple trick-taking game with the following rules:\n",
    "- The game is played with a standard deck of 52 cards.\n",
    "- There are four players, each of whom is dealt 8 cards.\n",
    "- There is a trump suit dealt randomly at the beginning of the round.\n",
    " \n",
    "The data consists of the number information about each players hands (number of high cards (J,Q,K,A), number of low cards (2,3,4,5), percent of trump cards, suit impurity, if the player was leading the round, and how many tricks they won). The goal is to predict the number of tricks each player will win in the round."
   ]
  },
  {
   "cell_type": "code",
   "execution_count": null,
   "metadata": {},
   "outputs": [],
   "source": [
    "import matplotlib.pyplot as plt\n",
    "import numpy as np\n",
    "import pandas as pd\n",
    "from sklearn.ensemble import RandomForestRegressor\n",
    "from sklearn.linear_model import LinearRegression\n",
    "from sklearn.metrics import root_mean_squared_error\n",
    "from sklearn.model_selection import train_test_split"
   ]
  },
  {
   "cell_type": "markdown",
   "metadata": {},
   "source": [
    "## Data Preparation\n",
    "We only want to look at the player using the stratgy SimpleWinTricks, not the random players.\n",
    "We also want to normalize the high card and low card count to be a percentage of the total cards in the hand."
   ]
  },
  {
   "cell_type": "code",
   "execution_count": null,
   "metadata": {},
   "outputs": [],
   "source": [
    "df = pd.read_csv(\"data/output-4-8.csv\")"
   ]
  },
  {
   "cell_type": "code",
   "execution_count": null,
   "metadata": {},
   "outputs": [],
   "source": [
    "df = df[df[\"strategy\"] == \"SimpleWinTricks\"]\n",
    "df[\"high_card_percentage\"] = df[\"high_card_count\"] / df[\"num_tricks\"]\n",
    "df[\"low_card_percentage\"] = df[\"low_card_count\"] / df[\"num_tricks\"]\n",
    "df[\"leading\"] = df[\"leading\"].astype(int)\n",
    "df.head()"
   ]
  },
  {
   "cell_type": "code",
   "execution_count": null,
   "metadata": {},
   "outputs": [],
   "source": [
    "# Drop unnecessary columns\n",
    "df = df.drop(\n",
    "    [\n",
    "        \"strategy\",\n",
    "        \"trump_suit\",\n",
    "        \"num_players\",\n",
    "        \"num_tricks\",\n",
    "        \"high_card_count\",\n",
    "        \"low_card_count\",\n",
    "    ],\n",
    "    axis=1,\n",
    ")"
   ]
  },
  {
   "cell_type": "code",
   "execution_count": null,
   "metadata": {},
   "outputs": [],
   "source": [
    "df.describe()"
   ]
  },
  {
   "cell_type": "markdown",
   "metadata": {},
   "source": [
    "## Model - Linear Regression\n",
    "We will use a Linear Regression model to predict the number of tricks each player will win in the round."
   ]
  },
  {
   "cell_type": "code",
   "execution_count": null,
   "metadata": {},
   "outputs": [],
   "source": [
    "X = df.drop([\"tricks_taken\"], axis=1)\n",
    "y = df[\"tricks_taken\"]"
   ]
  },
  {
   "cell_type": "code",
   "execution_count": null,
   "metadata": {},
   "outputs": [],
   "source": [
    "X_train, X_test, y_train, y_test = train_test_split(\n",
    "    X, y, test_size=0.2, random_state=42\n",
    ")"
   ]
  },
  {
   "cell_type": "code",
   "execution_count": null,
   "metadata": {},
   "outputs": [],
   "source": [
    "lr = LinearRegression()\n",
    "lr.fit(X_train, y_train)"
   ]
  },
  {
   "cell_type": "markdown",
   "metadata": {},
   "source": [
    "## Evaluate"
   ]
  },
  {
   "cell_type": "code",
   "execution_count": null,
   "metadata": {},
   "outputs": [],
   "source": [
    "lr.score(X_test, y_test)"
   ]
  },
  {
   "cell_type": "code",
   "execution_count": null,
   "metadata": {},
   "outputs": [],
   "source": [
    "lr.coef_"
   ]
  },
  {
   "cell_type": "code",
   "execution_count": null,
   "metadata": {},
   "outputs": [],
   "source": [
    "root_mean_squared_error(y_test, lr.predict(X_test))"
   ]
  },
  {
   "cell_type": "markdown",
   "metadata": {},
   "source": [
    "The coefficients of the model will give us an idea of which features are most important in predicting the number of tricks won. We can also look at the mean squared error of the model to see how well it performs on the test data.\n",
    "\n",
    "The coeffients are as follows:\n",
    "- Suit Impurity: -2.87\n",
    "- Trump Percentage: 5.39\n",
    "- Leading: 0.165\n",
    "- High Card Percentage: 3.37\n",
    "- Low Card Percentage: -1.31\n",
    "\n",
    "From this we can see that the Trump Percentage and High Card Percentage are the most important features in predicting the number of tricks won. The Suit Impurity and Low Card Percentage are less important, and Leading is the least important. The data was normalized, but not standardized, so the coefficients are not directly comparable.\n",
    "\n",
    "Suit Impurity and Low Card Percentage are negatively correlated. This makes sense since having more low cards in your hand is generally a disadvantage, and having a hand with more of the same suit (less impurity) is an advantage.\n",
    "\n",
    "The root mean squared error of the model is 0.97, which means that the model is off by about 1 trick on average. This is not bad considering that the number of tricks won is an integer value between 0 and 8."
   ]
  },
  {
   "cell_type": "code",
   "execution_count": null,
   "metadata": {},
   "outputs": [],
   "source": [
    "y_predict = lr.predict(X_test)\n",
    "y_actual = y_test\n",
    "\n",
    "# Plot the predicted vs actual\n",
    "plt.scatter(y_predict, y_actual)\n",
    "plt.plot([0, 6], [0, 6], \"r-\", lw=1)\n",
    "plt.xlabel(\"Predicted Tricks Taken\")\n",
    "plt.ylabel(\"Actual Tricks Taken\")\n",
    "plt.title(\"Predicted vs Actual Tricks Taken\")\n",
    "plt.show()"
   ]
  },
  {
   "cell_type": "markdown",
   "metadata": {},
   "source": [
    "## Model - Random Forest"
   ]
  },
  {
   "cell_type": "code",
   "execution_count": null,
   "metadata": {},
   "outputs": [],
   "source": [
    "rf = RandomForestRegressor(n_estimators=100, random_state=42)\n",
    "rf.fit(X_train, y_train)"
   ]
  },
  {
   "cell_type": "code",
   "execution_count": null,
   "metadata": {},
   "outputs": [],
   "source": [
    "rf.score(X_test, y_test)"
   ]
  },
  {
   "cell_type": "code",
   "execution_count": null,
   "metadata": {},
   "outputs": [],
   "source": [
    "rf.feature_importances_"
   ]
  },
  {
   "cell_type": "code",
   "execution_count": null,
   "metadata": {},
   "outputs": [],
   "source": [
    "root_mean_squared_error(y_test, rf.predict(X_test))"
   ]
  },
  {
   "cell_type": "code",
   "execution_count": null,
   "metadata": {},
   "outputs": [],
   "source": [
    "y_predict = rf.predict(X_test)\n",
    "y_actual = y_test\n",
    "\n",
    "# Plot the predicted vs actual\n",
    "plt.scatter(y_predict, y_actual)\n",
    "plt.plot([0, 6], [0, 6], \"r-\", lw=1)\n",
    "plt.xlabel(\"Predicted Tricks Taken\")\n",
    "plt.ylabel(\"Actual Tricks Taken\")\n",
    "plt.title(\"Predicted vs Actual Tricks Taken\")\n",
    "plt.show()"
   ]
  }
 ],
 "metadata": {
  "kernelspec": {
   "display_name": "udacity-data-science",
   "language": "python",
   "name": "python3"
  },
  "language_info": {
   "codemirror_mode": {
    "name": "ipython",
    "version": 3
   },
   "file_extension": ".py",
   "mimetype": "text/x-python",
   "name": "python",
   "nbconvert_exporter": "python",
   "pygments_lexer": "ipython3",
   "version": "3.11.2"
  }
 },
 "nbformat": 4,
 "nbformat_minor": 2
}
